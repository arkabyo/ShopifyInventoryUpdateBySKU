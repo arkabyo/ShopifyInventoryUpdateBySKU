{
  "nbformat": 4,
  "nbformat_minor": 0,
  "metadata": {
    "colab": {
      "provenance": [],
      "authorship_tag": "ABX9TyPlTqdIeSAxJ5n2wLcPLGIu",
      "include_colab_link": true
    },
    "kernelspec": {
      "name": "python3",
      "display_name": "Python 3"
    },
    "language_info": {
      "name": "python"
    }
  },
  "cells": [
    {
      "cell_type": "markdown",
      "metadata": {
        "id": "view-in-github",
        "colab_type": "text"
      },
      "source": [
        "<a href=\"https://colab.research.google.com/github/arkabyo/shopifyInventoryUpdateBySKU/blob/main/Shopify_Inventory_Update_using_SKU_Colab.ipynb\" target=\"_parent\"><img src=\"https://colab.research.google.com/assets/colab-badge.svg\" alt=\"Open In Colab\"/></a>"
      ]
    },
    {
      "cell_type": "markdown",
      "source": [
        "# Shopify Bulk Inventory Update Tool (SKU-Based)-Google Colab Version\n",
        "\n",
        "This notebook provides a powerful tool for updating your Shopify inventory based on SKU (Stock Keeping Unit) information from a new inventory file. Shopify does not handle direct inventory updates using SKUs through its interface; this notebook bridges that gap, allowing you to easily update inventory quantities for specific SKUs.\n",
        "\n",
        "## How It Works\n",
        "\n",
        "1. **Export your current Shopify Inventory:** Before running this notebook, export your current Shopify Inventory by navigating to: **Shopify Admin > Products > Inventory**. Then, **Choose Location** and Apply appropriate **filters** and then click **Export**. In the Export window, for Location, please select **One Location** at a time and for Quantity type, choose **All quantity types**.\n",
        "2. **Upload your Shopify Inventory Export File**.\n",
        "3. **Upload your New Inventory File** that includes the updated quantities.\n",
        "4. **Process and Export the Inventory**: Click the \"Export Inventory\" button to update your inventory based on the new data. A downloadable file will be automatically generated for you to import back into Shopify.\n",
        "\n",
        "## Step-by-Step Instructions\n",
        "\n",
        "Please follow the detailed instructions within this notebook to ensure successful uploading of your inventory files and the export of your updated inventory. This tool is designed with a focus on simplicity and efficiency, facilitating a smooth bulk inventory update process based on SKU information.\n",
        "\n",
        "## Requirements\n",
        "\n",
        "- This notebook is intended for use in Google Colab.\n",
        "- Ensure your inventory files are in CSV format before uploading.\n",
        "- To use this script on your local machine, please use the file `Shopify_Inventory_Update_using_SKU_Local_Machine.ipynb` in this repository.\n"
      ],
      "metadata": {
        "id": "p-bBPiNLOIbN"
      }
    },
    {
      "cell_type": "code",
      "source": [
        "# Import necessary libraries\n",
        "from google.colab import files\n",
        "import pandas as pd\n",
        "import io\n",
        "\n",
        "# Function to upload a file and return its DataFrame\n",
        "def upload_file(description):\n",
        "    print(f\"{description}\")\n",
        "    uploaded = files.upload()  # This will prompt for file upload\n",
        "    if uploaded:\n",
        "        file_name = next(iter(uploaded))\n",
        "        print(f\"File '{file_name}' uploaded successfully.\")\n",
        "        return pd.read_csv(io.BytesIO(uploaded[file_name]))\n",
        "    else:\n",
        "        print(\"\\nNo file uploaded.\")\n",
        "        return None\n",
        "\n",
        "# Upload Shopify Inventory Export File\n",
        "shopify_file = upload_file(\"Upload Shopify Inventory File\")\n",
        "\n",
        "# Upload New Inventory File\n",
        "new_inventory = upload_file(\"\\nUpload New Inventory File\")\n",
        "\n",
        "if shopify_file is not None and new_inventory is not None:\n",
        "    print(\"\\nProcessing... Please wait.\")\n",
        "\n",
        "    # Process the files\n",
        "    # Convert SKU columns to uppercase for case-insensitive comparison\n",
        "    shopify_file['SKU'] = shopify_file['SKU'].str.upper()\n",
        "    new_inventory['SKU'] = new_inventory['SKU'].str.upper()\n",
        "\n",
        "    # Replace \"ABC\" with \"XYZ\" in the SKU columns to match both the SKU Files (if needed)\n",
        "    shopify_file['SKU'] = shopify_file['SKU'].str.replace(\"ABC\", \"XYZ\") #C hange ABC & XYZ as needed\n",
        "    new_inventory['SKU'] = new_inventory['SKU'].str.replace(\"ABC\", \"XYZ\") #C hange ABC & XYZ as needed\n",
        "\n",
        "    # Set initial Shopify values for \"Available\" and \"On Hand\" to 0\n",
        "    shopify_file['Available'] = 0\n",
        "    shopify_file['On hand'] = 0\n",
        "\n",
        "    # Compare and update data\n",
        "    for sku in shopify_file['SKU']:\n",
        "        if sku in new_inventory['SKU'].values:\n",
        "            quantity = new_inventory.loc[new_inventory['SKU'] == sku, 'Quantity'].values[0]\n",
        "            shopify_file.loc[shopify_file['SKU'] == sku, 'Available'] = quantity\n",
        "            shopify_file.loc[shopify_file['SKU'] == sku, 'On hand'] = quantity\n",
        "\n",
        "    # Export the updated Shopify inventory to a CSV file\n",
        "    output_filename = 'UpdatedShopifyInventory.csv'\n",
        "    shopify_file.to_csv(output_filename, index=False)\n",
        "\n",
        "    print(\"\\nProcessing completed. The file is now being downloaded...\")\n",
        "    files.download(output_filename)\n",
        "else:\n",
        "    print(\"\\nPlease make sure both files are uploaded.\")\n"
      ],
      "metadata": {
        "id": "WOdH0D7GMbSV"
      },
      "execution_count": null,
      "outputs": []
    }
  ]
}
