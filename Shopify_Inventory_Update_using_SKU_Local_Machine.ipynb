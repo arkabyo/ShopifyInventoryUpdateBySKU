{
  "nbformat": 4,
  "nbformat_minor": 0,
  "metadata": {
    "colab": {
      "provenance": [],
      "authorship_tag": "ABX9TyNXbj5YxVVDrQldBBFJIAPJ",
      "include_colab_link": true
    },
    "kernelspec": {
      "name": "python3",
      "display_name": "Python 3"
    },
    "language_info": {
      "name": "python"
    }
  },
  "cells": [
    {
      "cell_type": "markdown",
      "metadata": {
        "id": "view-in-github",
        "colab_type": "text"
      },
      "source": [
        "<a href=\"https://colab.research.google.com/github/arkabyo/shopifyInventoryUpdateBySKU/blob/main/Shopify_Inventory_Update_using_SKU_Local_Machine.ipynb\" target=\"_parent\"><img src=\"https://colab.research.google.com/assets/colab-badge.svg\" alt=\"Open In Colab\"/></a>"
      ]
    },
    {
      "cell_type": "markdown",
      "source": [
        "# Shopify Bulk Inventory Update Tool (SKU-Based)-Local Version with File Dialogs\n",
        "\n",
        "Welcome to the local version of the Shopify Bulk Inventory Update Tool, designed to run on your local machine. This version enhances user experience by incorporating file dialogs for selecting and saving files, making it easier to navigate file systems without the need to manually enter file paths.\n",
        "\n",
        "## How It Works\n",
        "\n",
        "1. **Export your current Shopify Inventory:** Before running this notebook, export your current Shopify Inventory by navigating to: **Shopify Admin > Products > Inventory**. Then, **Choose Location** and Apply appropriate **filters** and then click **Export**. In the Export window, for Location, please select **One Location** at a time and for Quantity type, choose **All quantity types**.\n",
        "\n",
        "2. **Run the Tool**: Execute the script. You will be prompted with file dialog boxes to select your Shopify Inventory Export File and your New Inventory File. These files should be in CSV format and contain your inventory data, including SKU information.\n",
        "\n",
        "3. **File Dialogs**: Utilize the file dialogs to navigate your file system and select the appropriate files:\n",
        "   - First, a dialog will appear asking you to select your Shopify file.\n",
        "   - Next, you will be prompted to select your New Inventory file.\n",
        "\n",
        "4. **Process and Export Inventory**: After selecting your files, the tool processes the inventory updates based on the new data. You will then be prompted to choose a location and name for the updated inventory file, which can be imported back into Shopify.\n",
        "\n",
        "## Requirements\n",
        "\n",
        "- This tool is designed for a local machine running JupyterLab, Jupyter Notebook, or as a standalone Python script.\n",
        "- Ensure you have Python and pandas installed in your environment. tkinter, used for the file dialogs, is included with Python.\n",
        "- Your inventory files must be in CSV format.\n",
        "\n",
        "## Additional Notes\n",
        "\n",
        "- This script provides a seamless way to update Shopify inventory using SKU information, filling a gap where Shopify's interface does not directly support such updates.\n",
        "- To use this tool in Google Colab with interactive file upload and download capabilities, please see the corresponding file `Shopify_Inventory_Update_using_SKU_Colab.ipynb` in this repository.\n",
        "\n"
      ],
      "metadata": {
        "id": "xwrUuBtfUweB"
      }
    },
    {
      "cell_type": "code",
      "execution_count": null,
      "metadata": {
        "id": "NESjaK4FUvlt"
      },
      "outputs": [],
      "source": [
        "import tkinter as tk\n",
        "from tkinter import filedialog\n",
        "import pandas as pd\n",
        "\n",
        "# Initialize Tkinter\n",
        "root = tk.Tk()\n",
        "root.withdraw()  #hide the root window from appearing\n",
        "\n",
        "# Function to open a file dialog and return the chosen file path\n",
        "def browse_file_path(description):\n",
        "    print(description)  # Optional, to print the action to the console\n",
        "    filepath = filedialog.askopenfilename()  # Shows an \"Open\" dialog box\n",
        "    return filepath\n",
        "\n",
        "# Use the GUI to browse and select the Shopify and New Inventory files\n",
        "print(\"Please select your Shopify file:\")\n",
        "shopify_file_path = browse_file_path(\"Select your Shopify file\")\n",
        "print(\"Please select your New Inventory file:\")\n",
        "new_inventory_file_path = browse_file_path(\"Select your New Inventory file\")\n",
        "\n",
        "# Reading the files into pandas DataFrames\n",
        "if shopify_file_path and new_inventory_file_path:\n",
        "    shopify_file = pd.read_csv(shopify_file_path)\n",
        "    new_inventory = pd.read_csv(new_inventory_file_path)\n",
        "\n",
        "    # Convert SKU columns to uppercase for case-insensitive comparison\n",
        "    shopify_file['SKU'] = shopify_file['SKU'].str.upper()\n",
        "    new_inventory['SKU'] = new_inventory['SKU'].str.upper()\n",
        "\n",
        "    # Replace \"ABC\" with \"XYZ\" in the SKU columns to match both the SKU Files (if needed)\n",
        "    shopify_file['SKU'] = shopify_file['SKU'].str.replace(\"ABC\", \"XYZ\") # Change ABC & XYZ as needed\n",
        "    new_inventory['SKU'] = new_inventory['SKU'].str.replace(\"ABC\", \"XYZ\") # Change ABC & XYZ as needed\n",
        "\n",
        "    # Update Shopify file with new inventory quantities\n",
        "    for sku in shopify_file['SKU']:\n",
        "        if sku in new_inventory['SKU'].values:\n",
        "            quantity = new_inventory.loc[new_inventory['SKU'] == sku, 'Quantity'].values[0]\n",
        "            shopify_file.loc[shopify_file['SKU'] == sku, 'Available'] = quantity\n",
        "            shopify_file.loc[shopify_file['SKU'] == sku, 'On hand'] = quantity\n",
        "\n",
        "    # Prompt user to save the updated Shopify inventory file\n",
        "    output_filename = filedialog.asksaveasfilename(defaultextension=\".csv\",\n",
        "                                                   filetypes=[(\"CSV files\", \"*.csv\")],\n",
        "                                                   title=\"Save the updated Shopify inventory as\")\n",
        "    if output_filename:\n",
        "        shopify_file.to_csv(output_filename, index=False)\n",
        "        print(f\"Updated inventory has been saved to {output_filename}\")\n",
        "    else:\n",
        "        print(\"File save cancelled.\")\n",
        "else:\n",
        "    print(\"Operation cancelled or files not loaded.\")\n"
      ]
    }
  ]
}